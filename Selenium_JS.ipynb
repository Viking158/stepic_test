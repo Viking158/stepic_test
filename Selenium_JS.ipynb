{
 "cells": [
  {
   "cell_type": "code",
   "execution_count": 10,
   "metadata": {},
   "outputs": [
    {
     "name": "stdout",
     "output_type": "stream",
     "text": [
      "2.3007130329368963\n"
     ]
    }
   ],
   "source": [
    "from selenium import webdriver\n",
    "import math\n",
    "from math import log\n",
    "from math import sin\n",
    "\n",
    "browser = webdriver.Chrome()\n",
    "browser.get(\"http://suninjuly.github.io/alert_accept.html\")\n",
    "button1 = browser.find_element_by_tag_name(\"button\")\n",
    "button1.click()\n",
    "confirm=browser.switch_to.alert\n",
    "confirm.accept()\n",
    "x_element = browser.find_element_by_id(\"input_value\")\n",
    "x = int(x_element.text)\n",
    "func = log(abs(12*sin(x)))\n",
    "print(func)\n",
    "funct = str(func)\n",
    "answer = browser.find_element_by_id(\"answer\")\n",
    "answer.send_keys(funct)\n",
    "button1 = browser.find_element_by_tag_name(\"button\")\n",
    "button1.click()"
   ]
  },
  {
   "cell_type": "code",
   "execution_count": 2,
   "metadata": {},
   "outputs": [
    {
     "name": "stdout",
     "output_type": "stream",
     "text": [
      "-0.8553340754278975\n"
     ]
    }
   ],
   "source": [
    "from selenium import webdriver\n",
    "import math\n",
    "from math import log\n",
    "from math import sin\n",
    "\n",
    "browser = webdriver.Chrome()\n",
    "browser.get(\"http://suninjuly.github.io/redirect_accept.html\")\n",
    "button1 = browser.find_element_by_tag_name(\"button\")\n",
    "button1.click()\n",
    "new_window = browser.window_handles[1]\n",
    "browser.switch_to.window(new_window)\n",
    "\n",
    "\n",
    "x_element = browser.find_element_by_id(\"input_value\")\n",
    "x = int(x_element.text)\n",
    "func = log(abs(12*sin(x)))\n",
    "print(func)\n",
    "funct = str(func)\n",
    "answer = browser.find_element_by_id(\"answer\")\n",
    "answer.send_keys(funct)\n",
    "button1 = browser.find_element_by_tag_name(\"button\")\n",
    "button1.click()"
   ]
  },
  {
   "cell_type": "code",
   "execution_count": 7,
   "metadata": {},
   "outputs": [
    {
     "name": "stdout",
     "output_type": "stream",
     "text": [
      "2.4820804767401214\n"
     ]
    }
   ],
   "source": [
    "from selenium.webdriver.common.by import By\n",
    "from selenium.webdriver.support.ui import WebDriverWait\n",
    "from selenium.webdriver.support import expected_conditions as EC\n",
    "from selenium import webdriver\n",
    "import math\n",
    "from math import log\n",
    "from math import sin\n",
    "\n",
    "browser = webdriver.Chrome()\n",
    "browser.get(\"http://suninjuly.github.io/explicit_wait2.html\")\n",
    "button1 = browser.find_element_by_id(\"book\")\n",
    "button = WebDriverWait(browser, 12).until(\n",
    "    EC.text_to_be_present_in_element((By.ID, \"price\"), \"$100\")\n",
    ")\n",
    "button1.click()\n",
    "x_element = browser.find_element_by_id(\"input_value\")\n",
    "x = int(x_element.text)\n",
    "func = log(abs(12*sin(x)))\n",
    "print(func)\n",
    "funct = str(func)\n",
    "answer = browser.find_element_by_id(\"answer\")\n",
    "answer.send_keys(funct)\n",
    "button2 = browser.find_element_by_id(\"solve\")\n",
    "button2.click()"
   ]
  },
  {
   "cell_type": "code",
   "execution_count": null,
   "metadata": {},
   "outputs": [],
   "source": []
  },
  {
   "cell_type": "code",
   "execution_count": null,
   "metadata": {},
   "outputs": [],
   "source": []
  }
 ],
 "metadata": {
  "kernelspec": {
   "display_name": "Python 3",
   "language": "python",
   "name": "python3"
  },
  "language_info": {
   "codemirror_mode": {
    "name": "ipython",
    "version": 3
   },
   "file_extension": ".py",
   "mimetype": "text/x-python",
   "name": "python",
   "nbconvert_exporter": "python",
   "pygments_lexer": "ipython3",
   "version": "3.7.1"
  }
 },
 "nbformat": 4,
 "nbformat_minor": 2
}
