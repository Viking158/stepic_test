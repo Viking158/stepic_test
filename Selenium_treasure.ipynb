{
 "cells": [
  {
   "cell_type": "code",
   "execution_count": 11,
   "metadata": {},
   "outputs": [
    {
     "name": "stdout",
     "output_type": "stream",
     "text": [
      "2.0847710782014883\n"
     ]
    },
    {
     "ename": "NameError",
     "evalue": "name 'broowsr' is not defined",
     "output_type": "error",
     "traceback": [
      "\u001b[1;31m---------------------------------------------------------------------------\u001b[0m",
      "\u001b[1;31mNameError\u001b[0m                                 Traceback (most recent call last)",
      "\u001b[1;32m<ipython-input-11-ae85c6c7bd3c>\u001b[0m in \u001b[0;36m<module>\u001b[1;34m\u001b[0m\n\u001b[0;32m     18\u001b[0m \u001b[0moption2\u001b[0m \u001b[1;33m=\u001b[0m \u001b[0mbrowser\u001b[0m\u001b[1;33m.\u001b[0m\u001b[0mfind_element_by_id\u001b[0m\u001b[1;33m(\u001b[0m\u001b[1;34m\"robotsRule\"\u001b[0m\u001b[1;33m)\u001b[0m\u001b[1;33m\u001b[0m\u001b[1;33m\u001b[0m\u001b[0m\n\u001b[0;32m     19\u001b[0m \u001b[0moption2\u001b[0m\u001b[1;33m.\u001b[0m\u001b[0mclick\u001b[0m\u001b[1;33m(\u001b[0m\u001b[1;33m)\u001b[0m\u001b[1;33m\u001b[0m\u001b[1;33m\u001b[0m\u001b[0m\n\u001b[1;32m---> 20\u001b[1;33m \u001b[0mbutton1\u001b[0m \u001b[1;33m=\u001b[0m \u001b[0mbroowsr\u001b[0m\u001b[1;33m.\u001b[0m\u001b[0mfind_element_by_tag_name\u001b[0m\u001b[1;33m(\u001b[0m\u001b[1;34m\"button\"\u001b[0m\u001b[1;33m)\u001b[0m\u001b[1;33m\u001b[0m\u001b[1;33m\u001b[0m\u001b[0m\n\u001b[0m\u001b[0;32m     21\u001b[0m \u001b[0mbutton1\u001b[0m\u001b[1;33m.\u001b[0m\u001b[0mclick\u001b[0m\u001b[1;33m(\u001b[0m\u001b[1;33m)\u001b[0m\u001b[1;33m\u001b[0m\u001b[1;33m\u001b[0m\u001b[0m\n",
      "\u001b[1;31mNameError\u001b[0m: name 'broowsr' is not defined"
     ]
    }
   ],
   "source": [
    "from selenium import webdriver\n",
    "import math\n",
    "from math import log\n",
    "from math import sin\n",
    "\n",
    "browser = webdriver.Chrome()\n",
    "browser.get(\"http://suninjuly.github.io/get_attribute.html\")\n",
    "teasure = browser.find_element_by_id(\"treasure\")\n",
    "ttext = teasure.get_attribute(\"valuex\")\n",
    "x = int(ttext)\n",
    "func = log(abs(12*sin(x)))\n",
    "print(func)\n",
    "funct = str(func)\n",
    "answer = browser.find_element_by_id(\"answer\")\n",
    "answer.send_keys(funct)\n",
    "option1 = browser.find_element_by_id(\"robotCheckbox\")\n",
    "option1.click()\n",
    "option2 = browser.find_element_by_id(\"robotsRule\")\n",
    "option2.click()\n",
    "button1 = browser.find_element_by_tag_name(\"button\")\n",
    "button1.click()"
   ]
  },
  {
   "cell_type": "code",
   "execution_count": 1,
   "metadata": {},
   "outputs": [
    {
     "name": "stdout",
     "output_type": "stream",
     "text": [
      "3\n"
     ]
    }
   ],
   "source": [
    "from selenium import webdriver\n",
    "from selenium.webdriver.support.ui import Select\n",
    "\n",
    "browser = webdriver.Chrome()\n",
    "browser.get(\"http://suninjuly.github.io/selects2.html\")\n",
    "num1 = browser.find_element_by_id(\"num1\")\n",
    "num11 = num1.text\n",
    "num2 = browser.find_element_by_id(\"num2\")\n",
    "num22 = num2.text\n",
    "x = int(num11)+int(num22)\n",
    "x2 = str(x)\n",
    "print(x2)\n",
    "select = Select(browser.find_element_by_tag_name(\"select\"))\n",
    "select.select_by_visible_text(x2)\n",
    "button1 = browser.find_element_by_tag_name(\"button\")\n",
    "button1.click()"
   ]
  },
  {
   "cell_type": "code",
   "execution_count": 7,
   "metadata": {},
   "outputs": [
    {
     "name": "stdout",
     "output_type": "stream",
     "text": [
      "1.6550470284830543\n"
     ]
    }
   ],
   "source": [
    "from selenium import webdriver\n",
    "import math\n",
    "from math import log\n",
    "from math import sin\n",
    "\n",
    "browser = webdriver.Chrome()\n",
    "link = \"http://SunInJuly.github.io/execute_script.html\"\n",
    "browser.get(link)\n",
    "x_element = browser.find_element_by_id(\"input_value\")\n",
    "x = int(x_element.text)\n",
    "func = log(abs(12*sin(x)))\n",
    "print(func)\n",
    "funct = str(func)\n",
    "answer = browser.find_element_by_id(\"answer\")\n",
    "answer.send_keys(funct)\n",
    "option1 = browser.find_element_by_id(\"robotCheckbox\")\n",
    "option1.click()\n",
    "option2 = browser.find_element_by_id(\"robotsRule\")\n",
    "browser.execute_script(\"return arguments[0].scrollIntoView(true);\", option2)\n",
    "option2.click()\n",
    "button = browser.find_element_by_tag_name(\"button\")\n",
    "browser.execute_script(\"return arguments[0].scrollIntoView(true);\", button)\n",
    "button.click()"
   ]
  },
  {
   "cell_type": "code",
   "execution_count": 11,
   "metadata": {},
   "outputs": [],
   "source": [
    "from selenium import webdriver\n",
    "import os\n",
    "\n",
    "browser = webdriver.Chrome()\n",
    "browser.get(\"http://suninjuly.github.io/file_input.html\")\n",
    "fn = \"Elena\"\n",
    "ln = \"Serkova\"\n",
    "em = \"blabla@mail.ru\"\n",
    "option1 = browser.find_element_by_name(\"firstname\")\n",
    "option1.send_keys(fn)\n",
    "option2 = browser.find_element_by_name(\"lastname\")\n",
    "option2.send_keys(ln)\n",
    "option3 = browser.find_element_by_name(\"email\")\n",
    "option3.send_keys(em)\n",
    "element = browser.find_element_by_name(\"file\")\n",
    "current_dir = os.path.abspath(os.path.dirname('__file__'))    # получаем путь к директории текущего исполняемого файла \n",
    "file_path = os.path.join(current_dir, '1.txt')           # добавляем к этому пути имя файла \n",
    "element.send_keys(file_path)\n",
    "button = browser.find_element_by_tag_name(\"button\")\n",
    "button.click()"
   ]
  },
  {
   "cell_type": "code",
   "execution_count": null,
   "metadata": {},
   "outputs": [],
   "source": []
  }
 ],
 "metadata": {
  "kernelspec": {
   "display_name": "Python 3",
   "language": "python",
   "name": "python3"
  },
  "language_info": {
   "codemirror_mode": {
    "name": "ipython",
    "version": 3
   },
   "file_extension": ".py",
   "mimetype": "text/x-python",
   "name": "python",
   "nbconvert_exporter": "python",
   "pygments_lexer": "ipython3",
   "version": "3.7.1"
  }
 },
 "nbformat": 4,
 "nbformat_minor": 2
}
